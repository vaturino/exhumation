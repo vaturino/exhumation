{
 "cells": [
  {
   "cell_type": "code",
   "execution_count": 2,
   "metadata": {},
   "outputs": [],
   "source": [
    "import pandas as pd\n",
    "import numpy as np\n",
    "import matplotlib.pyplot as plt\n",
    "import seaborn as sns"
   ]
  },
  {
   "cell_type": "code",
   "execution_count": 3,
   "metadata": {},
   "outputs": [],
   "source": [
    "comparison = pd.read_excel('comparison.xlsx')"
   ]
  },
  {
   "cell_type": "code",
   "execution_count": 4,
   "metadata": {},
   "outputs": [],
   "source": [
    "visc = comparison[(comparison[\"Test\"] == \"Viscosity\") | (comparison[\"Test\"] == 'Reference')]\n",
    "fric = comparison[(comparison[\"Test\"] == \"Friction\") | (comparison[\"Test\"] == 'Reference')]\n",
    "veloc = comparison[(comparison[\"Test\"] == \"Velocity\") | (comparison[\"Test\"] == 'Reference')]"
   ]
  },
  {
   "cell_type": "code",
   "execution_count": 7,
   "metadata": {},
   "outputs": [
    {
     "name": "stderr",
     "output_type": "stream",
     "text": [
      "The PostScript backend does not support transparency; partially transparent artists will be rendered opaque.\n"
     ]
    }
   ],
   "source": [
    "fig, ax = plt.subplots(1, 3, figsize=(15, 5))\n",
    "veloc.plot(x='Model', y=['Tot_exh', 'Tot_stag'], kind='bar', ax=ax[0], title='Percentage total exhumed particles')\n",
    "ax[0].set_ylabel('Percentage')\n",
    "\n",
    "veloc.plot(x='Model', y=['Sed_exh', 'Oc_exh', 'Ecl_exh'], kind='bar', ax=ax[1], title='Percentage exhumed particles by lithology', colormap='tab20b')\n",
    "ax[1].set_ylabel('Percentage')\n",
    "\n",
    "veloc.plot(x='Model', y=['Sed_stag', 'Oc_stag', 'Ecl_stag'], kind='bar', ax=ax[2], title='Percentage stagnant particles by lithology', colormap='tab20b')\n",
    "ax[2].set_ylabel('Percentage')\n",
    "\n",
    "plt.tight_layout()\n",
    "plt.savefig(\"Percentage_velocity_test.eps\", dpi=1000)\n",
    "plt.close()"
   ]
  },
  {
   "cell_type": "code",
   "execution_count": null,
   "metadata": {},
   "outputs": [],
   "source": []
  }
 ],
 "metadata": {
  "kernelspec": {
   "display_name": "Python 3",
   "language": "python",
   "name": "python3"
  },
  "language_info": {
   "codemirror_mode": {
    "name": "ipython",
    "version": 3
   },
   "file_extension": ".py",
   "mimetype": "text/x-python",
   "name": "python",
   "nbconvert_exporter": "python",
   "pygments_lexer": "ipython3",
   "version": "3.10.12"
  }
 },
 "nbformat": 4,
 "nbformat_minor": 2
}
