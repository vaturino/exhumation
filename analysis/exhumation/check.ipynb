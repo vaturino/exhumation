{
 "cells": [
  {
   "cell_type": "code",
   "execution_count": 1,
   "metadata": {},
   "outputs": [],
   "source": [
    "import pandas as pd"
   ]
  },
  {
   "cell_type": "code",
   "execution_count": 2,
   "metadata": {},
   "outputs": [],
   "source": [
    "parts = pd.read_csv(\"/home/vturino/PhD/projects/exhumation/plots/single_models/kinematic_mu0.13_basalt7.5km_sed1km_cttV/txt_files/stagnant_times.txt\", sep=\"\\s+\")"
   ]
  },
  {
   "cell_type": "code",
   "execution_count": 7,
   "metadata": {},
   "outputs": [
    {
     "name": "stdout",
     "output_type": "stream",
     "text": [
      "Empty DataFrame\n",
      "Columns: [id, lithology, Pm_dyn, Pm_trans, Pm_kin, tm_dyn, tm_trans, tm_kin, Tm_dyn, Tm_trans, Tm_kin, time_interval_dyn, time_interval_trans, time_interval_kin, ti_dyn, ti_trans, ti_kin, tf_dyn, tf_trans, tf_kin]\n",
      "Index: []\n"
     ]
    }
   ],
   "source": [
    "# print the particles for which tm_dyn is not nan\n",
    "print(parts[~parts.tm_trans.isna()])"
   ]
  },
  {
   "cell_type": "code",
   "execution_count": null,
   "metadata": {},
   "outputs": [],
   "source": []
  }
 ],
 "metadata": {
  "kernelspec": {
   "display_name": "Python 3",
   "language": "python",
   "name": "python3"
  },
  "language_info": {
   "codemirror_mode": {
    "name": "ipython",
    "version": 3
   },
   "file_extension": ".py",
   "mimetype": "text/x-python",
   "name": "python",
   "nbconvert_exporter": "python",
   "pygments_lexer": "ipython3",
   "version": "3.10.12"
  }
 },
 "nbformat": 4,
 "nbformat_minor": 2
}
