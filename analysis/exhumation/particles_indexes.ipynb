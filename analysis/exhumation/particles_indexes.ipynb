{
 "cells": [
  {
   "cell_type": "code",
   "execution_count": 1,
   "metadata": {},
   "outputs": [
    {
     "name": "stderr",
     "output_type": "stream",
     "text": [
      "/home/vturino/.local/lib/python3.10/site-packages/matplotlib/projections/__init__.py:63: UserWarning: Unable to import Axes3D. This may be due to multiple versions of Matplotlib being installed (e.g. as a system package and as a pip package). As a result, the 3D projection is not available.\n",
      "  warnings.warn(\"Unable to import Axes3D. This may be due to multiple versions of \"\n"
     ]
    }
   ],
   "source": [
    "import pandas as pd\n",
    "import numpy as np\n",
    "import matplotlib\n",
    "import matplotlib.cm as cm\n",
    "import matplotlib.pyplot as plt\n",
    "from numpy.core.fromnumeric import size\n",
    "from scipy.interpolate import griddata\n",
    "from matplotlib.gridspec import GridSpec\n",
    "import sys, os, subprocess\n",
    "import json as json\n",
    "from tqdm import tqdm\n",
    "import pandas as pd\n",
    "import argparse\n",
    "from pathlib import Path\n",
    "import seaborn as sns\n",
    "import matplotlib.tri as tri\n",
    "sys.path.append(\"../\")\n",
    "from libraries.functions import *\n",
    "from libraries.particles import *\n",
    "from libraries.exhumation import *\n",
    "import plotly.graph_objects as go"
   ]
  },
  {
   "cell_type": "code",
   "execution_count": 2,
   "metadata": {},
   "outputs": [],
   "source": [
    "def get_trench_position_from_op(p, threshold = 2.7e7):\n",
    "    if {\"opc\"}.issubset(p.columns):\n",
    "        tr =  p.loc[(p['Points:0']< threshold) & (p[\"opc\"] > 0.3) & (p[\"Points:1\"] >=  p[\"Points:1\"].max() - 2.e3),'Points:0'].min()\n",
    "    else:\n",
    "        tr =  p.loc[(p['Points:0']< threshold) & (p['op'] > 0.3) & (p[\"Points:1\"] >=  p[\"Points:1\"].max() - 2.e3),'Points:0'].min()\n",
    "    return tr\n"
   ]
  },
  {
   "cell_type": "code",
   "execution_count": 3,
   "metadata": {},
   "outputs": [],
   "source": [
    "file = {\n",
    "    \"models\":[\n",
    "      \"kinematic_mu0.13_basalt7.5km_sed1km_cttV\",\n",
    "      \"kinematic_mu0.13_basalt7.5km_sed1km_Vto50pc\",\n",
    "      \"kinematic_mu0.13_basalt7.5km_sed1km_Vto0\"\n",
    "    ],\n",
    "    \"plot_folder\":[\n",
    "        \"kinematic_mu0.13_basalt7.5km_sed1km_cttV\",\n",
    "        \"kinematic_mu0.13_basalt7.5km_sed1km_Vto50pc\",\n",
    "        \"kinematic_mu0.13_basalt7.5km_sed1km_Vto0\"\n",
    "    ],\n",
    "    \"head_lines\": 23,\n",
    "    \"viz_lines\": 23,\n",
    "    \"compositions\":[\n",
    "      \"oc\",\n",
    "      \"sed\",\n",
    "      \"opc\",\n",
    "      \"ecl\"\n",
    "    ],\n",
    "    \"track\":[\n",
    "      \"oc\",\n",
    "      \"sed\",\n",
    "      \"ecl\"\n",
    "    ],\n",
    "    \"cutoff\":[\n",
    "      0,\n",
    "      800000,\n",
    "      0,\n",
    "      750000\n",
    "    ]\n",
    " }\n",
    "\n",
    "csvs_loc = '/home/vturino/Vale_nas/exhumation/gz_outputs/'\n",
    "\n",
    "\n",
    "compositions = file['compositions']\n",
    "track = file['track']\n",
    "tr = 0.5        "
   ]
  },
  {
   "cell_type": "code",
   "execution_count": 5,
   "metadata": {},
   "outputs": [],
   "source": [
    "# For the cttV model, open the first timestep\n",
    "model = file['models'][0]\n",
    "plot_folder = file['plot_folder'][0]\n",
    "gzip = f\"{csvs_loc}{model}/particles/full.1.gzip\"\n",
    "initial = load_data(csvs_loc+model, '/particles/full.1.gzip', compositions, tr)"
   ]
  },
  {
   "cell_type": "code",
   "execution_count": 6,
   "metadata": {},
   "outputs": [],
   "source": [
    "trench= get_trench_position_from_op(initial)"
   ]
  },
  {
   "cell_type": "code",
   "execution_count": 7,
   "metadata": {},
   "outputs": [],
   "source": [
    "def collect_particles (trench:float, min_d: float, max_d: float, init):\n",
    "    data = init[(init[\"Points:0\"] < trench - min_d) & (init[\"Points:0\"] > trench - max_d) & (init[\"opc\"] == 0)]\n",
    "    return data"
   ]
  },
  {
   "cell_type": "code",
   "execution_count": 8,
   "metadata": {},
   "outputs": [
    {
     "name": "stderr",
     "output_type": "stream",
     "text": [
      "/tmp/ipykernel_866123/630335754.py:2: SettingWithCopyWarning: \n",
      "A value is trying to be set on a copy of a slice from a DataFrame.\n",
      "Try using .loc[row_indexer,col_indexer] = value instead\n",
      "\n",
      "See the caveats in the documentation: https://pandas.pydata.org/pandas-docs/stable/user_guide/indexing.html#returning-a-view-versus-a-copy\n",
      "  dataset[\"lithology\"] = [0]*len(dataset)\n"
     ]
    }
   ],
   "source": [
    "dataset = collect_particles(trench, 0, 350.e3, initial)\n",
    "dataset[\"lithology\"] = [0]*len(dataset)\n"
   ]
  },
  {
   "cell_type": "code",
   "execution_count": 9,
   "metadata": {},
   "outputs": [
    {
     "name": "stderr",
     "output_type": "stream",
     "text": [
      "/tmp/ipykernel_866123/3378002342.py:3: SettingWithCopyWarning: \n",
      "A value is trying to be set on a copy of a slice from a DataFrame.\n",
      "Try using .loc[row_indexer,col_indexer] = value instead\n",
      "\n",
      "See the caveats in the documentation: https://pandas.pydata.org/pandas-docs/stable/user_guide/indexing.html#returning-a-view-versus-a-copy\n",
      "  dataset[\"lithology\"] += weight * dataset[c].round()\n",
      "/tmp/ipykernel_866123/3378002342.py:5: SettingWithCopyWarning: \n",
      "A value is trying to be set on a copy of a slice from a DataFrame.\n",
      "Try using .loc[row_indexer,col_indexer] = value instead\n",
      "\n",
      "See the caveats in the documentation: https://pandas.pydata.org/pandas-docs/stable/user_guide/indexing.html#returning-a-view-versus-a-copy\n",
      "  dataset[\"lithology\"] = dataset[\"lithology\"].round().astype(int)\n"
     ]
    }
   ],
   "source": [
    "for ind_c, c in enumerate(track):\n",
    "    weight = ind_c + 1 \n",
    "    dataset[\"lithology\"] += weight * dataset[c].round()\n",
    "\n",
    "dataset[\"lithology\"] = dataset[\"lithology\"].round().astype(int)\n",
    "\n",
    "# sample 5% of the dataset\n",
    "msk = np.random.rand(len(dataset)) <= 0.2\n",
    "sample = dataset[msk]\n"
   ]
  },
  {
   "cell_type": "code",
   "execution_count": null,
   "metadata": {},
   "outputs": [],
   "source": [
    "# Now, for each model, we want to look at the last file \"full.100.gzip\" and find the particles with \"id\" that are:\n",
    "# - contained in \"sample\"\n",
    "# - contained in each model[i]/particles/full.100.gzip\n",
    "\n",
    "\n",
    "\n"
   ]
  }
 ],
 "metadata": {
  "kernelspec": {
   "display_name": "Python 3",
   "language": "python",
   "name": "python3"
  },
  "language_info": {
   "codemirror_mode": {
    "name": "ipython",
    "version": 3
   },
   "file_extension": ".py",
   "mimetype": "text/x-python",
   "name": "python",
   "nbconvert_exporter": "python",
   "pygments_lexer": "ipython3",
   "version": "3.10.12"
  }
 },
 "nbformat": 4,
 "nbformat_minor": 2
}
