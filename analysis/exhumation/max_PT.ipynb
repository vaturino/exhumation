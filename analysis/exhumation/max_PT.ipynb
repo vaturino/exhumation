{
 "cells": [
  {
   "cell_type": "code",
   "execution_count": 1,
   "metadata": {},
   "outputs": [],
   "source": [
    "import pandas as pd"
   ]
  },
  {
   "cell_type": "code",
   "execution_count": 2,
   "metadata": {},
   "outputs": [],
   "source": [
    "mod_loc = \"/home/vturino/PhD/projects/exhumation/plots/single_models\"\n",
    "model = \"kinematic_mu0.13_basalt7.5km_sed1km_serp1km_upto35Myr\"\n",
    "conds_loc = f\"{mod_loc}/{model}/txt_files\""
   ]
  },
  {
   "cell_type": "code",
   "execution_count": 3,
   "metadata": {},
   "outputs": [],
   "source": [
    "exhumed = pd.read_csv(f\"{conds_loc}/exhumed_particles.txt\", sep=\"\\s+\")\n",
    "stagnant = pd.read_csv(f\"{conds_loc}/stagnant_particles.txt\", sep=\"\\s+\")"
   ]
  },
  {
   "cell_type": "code",
   "execution_count": 4,
   "metadata": {},
   "outputs": [
    {
     "data": {
      "text/plain": [
       "2.769639641999999"
      ]
     },
     "execution_count": 4,
     "metadata": {},
     "output_type": "execute_result"
    }
   ],
   "source": [
    "exhumed[\"maxPP\"].max()\n",
    "stagnant[\"maxPP\"].max()"
   ]
  },
  {
   "cell_type": "code",
   "execution_count": 5,
   "metadata": {},
   "outputs": [],
   "source": [
    "exh_comp = exhumed[\"lithology\"].unique()\n",
    "stag_comp = stagnant[\"lithology\"].unique()"
   ]
  },
  {
   "cell_type": "code",
   "execution_count": 6,
   "metadata": {},
   "outputs": [
    {
     "name": "stdout",
     "output_type": "stream",
     "text": [
      "Exhumed particles:\n",
      "max P for  sed  =  0.8641001160000003  GPa\n",
      "max P for  oc  =  0.9266447520000008  GPa\n"
     ]
    }
   ],
   "source": [
    "print(\"Exhumed particles:\")\n",
    "for i in range(len(exh_comp)):\n",
    "    print(f\"max P for \", exh_comp[i], \" = \", exhumed[exhumed[\"lithology\"] == exh_comp[i]][\"maxPP\"].max(), \" GPa\" )"
   ]
  },
  {
   "cell_type": "code",
   "execution_count": 7,
   "metadata": {},
   "outputs": [
    {
     "name": "stdout",
     "output_type": "stream",
     "text": [
      "Stagnant particles:\n",
      "max P for  oc  =  2.769639641999999  GPa\n",
      "max P for  ecl  =  2.76076944  GPa\n",
      "max P for  serp  =  2.736457317  GPa\n",
      "max P for  sed  =  1.6294949550000013  GPa\n"
     ]
    }
   ],
   "source": [
    "print(\"Stagnant particles:\")\n",
    "for i in range(len(stag_comp)):\n",
    "    print(f\"max P for \", stag_comp[i], \" = \", stagnant[stagnant[\"lithology\"] == stag_comp[i]][\"maxPP\"].max(), \" GPa\" )"
   ]
  },
  {
   "cell_type": "code",
   "execution_count": null,
   "metadata": {},
   "outputs": [],
   "source": []
  },
  {
   "cell_type": "code",
   "execution_count": null,
   "metadata": {},
   "outputs": [],
   "source": []
  },
  {
   "cell_type": "code",
   "execution_count": null,
   "metadata": {},
   "outputs": [],
   "source": []
  },
  {
   "cell_type": "code",
   "execution_count": null,
   "metadata": {},
   "outputs": [],
   "source": []
  }
 ],
 "metadata": {
  "kernelspec": {
   "display_name": "Python 3",
   "language": "python",
   "name": "python3"
  },
  "language_info": {
   "codemirror_mode": {
    "name": "ipython",
    "version": 3
   },
   "file_extension": ".py",
   "mimetype": "text/x-python",
   "name": "python",
   "nbconvert_exporter": "python",
   "pygments_lexer": "ipython3",
   "version": "3.10.12"
  }
 },
 "nbformat": 4,
 "nbformat_minor": 2
}
