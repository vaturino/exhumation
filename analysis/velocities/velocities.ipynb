{
 "cells": [
  {
   "cell_type": "code",
   "execution_count": 1,
   "metadata": {},
   "outputs": [],
   "source": [
    "#! /usr/bin/python3\n",
    "import pandas as pd\n",
    "import numpy as np\n",
    "import json\n",
    "from tqdm import tqdm\n",
    "import sys, os, subprocess\n",
    "from matplotlib.pyplot import xlabel, ylabel\n",
    "import matplotlib.pyplot as plt\n",
    "import argparse\n",
    "from matplotlib.gridspec import GridSpec\n",
    "import math as math\n",
    "from scipy.signal import savgol_filter "
   ]
  },
  {
   "cell_type": "code",
   "execution_count": 2,
   "metadata": {},
   "outputs": [],
   "source": [
    "plot_loc =  '/home/vturino/PhD/projects/exhumation/plots/single_models/'\n",
    "models_loc =  '/home/vturino/PhD/projects/exhumation/raw_outputs/'\n",
    "json_loc = '/home/vturino/PhD/projects/exhumation/pyInput/'\n",
    "\n",
    "json_file = 'kin_dyncr.json'\n",
    "with open(f\"{json_loc}{json_file}\") as json_file:\n",
    "        configs = json.load(json_file)\n",
    "        setting = 'none'\n",
    "\n",
    "m = configs['models'][0]"
   ]
  },
  {
   "cell_type": "code",
   "execution_count": 3,
   "metadata": {},
   "outputs": [],
   "source": [
    "vel = pd.read_csv(f\"{plot_loc}/{m}/txt_files/2D_v.txt\", sep='\\s+')"
   ]
  },
  {
   "cell_type": "code",
   "execution_count": 4,
   "metadata": {},
   "outputs": [],
   "source": [
    "fig, ax = plt.subplots(1, 3, figsize=(20, 5))\n",
    "\n",
    "ax[0].set_title(\"Convergence rate\")\n",
    "ax[0].plot(vel.time/1.e6, vel.conv_rate)\n",
    "ax[0].set_xlabel(\"Time (Myr)\")\n",
    "ax[0].set_ylabel(\"v$_{c}$ (Myr)\")\n",
    "ax[0].set_xlim(0,50)\n",
    "ax[0].set_ylim(0,7.2)\n",
    "\n",
    "ax[1].set_title(\"SP velocity\")\n",
    "ax[1].plot(vel.time/1.e6, vel.SP)\n",
    "ax[1].set_xlabel(\"Time (Myr)\")\n",
    "ax[1].set_ylabel(\"v$_{c}$ (Myr)\")\n",
    "ax[1].set_xlim(0,50)\n",
    "ax[1].set_ylim(0,7.2)\n",
    "\n",
    "ax[2].set_title(\"OP velocity\")\n",
    "ax[2].plot(vel.time/1.e6, -vel.OP)\n",
    "ax[2].set_xlabel(\"Time (Myr)\")\n",
    "ax[2].set_ylabel(\"v$_{c}$ (Myr)\")\n",
    "ax[2].set_xlim(0,50)\n",
    "ax[2].set_ylim(0,7.2)\n",
    "\n",
    "plt.savefig(f\"{plot_loc}/{m}/velocities.eps\", dpi = 500)\n",
    "plt.close()"
   ]
  },
  {
   "cell_type": "code",
   "execution_count": null,
   "metadata": {},
   "outputs": [],
   "source": []
  },
  {
   "cell_type": "code",
   "execution_count": null,
   "metadata": {},
   "outputs": [],
   "source": []
  }
 ],
 "metadata": {
  "kernelspec": {
   "display_name": "Python 3",
   "language": "python",
   "name": "python3"
  },
  "language_info": {
   "codemirror_mode": {
    "name": "ipython",
    "version": 3
   },
   "file_extension": ".py",
   "mimetype": "text/x-python",
   "name": "python",
   "nbconvert_exporter": "python",
   "pygments_lexer": "ipython3",
   "version": "3.10.12"
  },
  "orig_nbformat": 4
 },
 "nbformat": 4,
 "nbformat_minor": 2
}
